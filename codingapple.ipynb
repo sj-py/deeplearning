{
  "nbformat": 4,
  "nbformat_minor": 0,
  "metadata": {
    "colab": {
      "name": "codingapple.ipynb",
      "provenance": [],
      "authorship_tag": "ABX9TyOP7dGpdmjDugN6MlJgT1Ct",
      "include_colab_link": true
    },
    "kernelspec": {
      "name": "python3",
      "display_name": "Python 3"
    },
    "language_info": {
      "name": "python"
    }
  },
  "cells": [
    {
      "cell_type": "markdown",
      "metadata": {
        "id": "view-in-github",
        "colab_type": "text"
      },
      "source": [
        "<a href=\"https://colab.research.google.com/github/sj-py/deeplearning/blob/master/codingapple.ipynb\" target=\"_parent\"><img src=\"https://colab.research.google.com/assets/colab-badge.svg\" alt=\"Open In Colab\"/></a>"
      ]
    },
    {
      "cell_type": "code",
      "source": [
        "import tensorflow as tf\n",
        "\n",
        "텐서 = tf.constant([3,4,5])#정수 및 여러 숫자(데이터), 리스트형태도 가능\n",
        "텐서2 = tf.constant([6,7,8])\n",
        "\n",
        "텐서3 = tf.constant([[1,2], \n",
        "                    [3,4]])\n",
        "텐서4 = tf.constant([[5,6],\n",
        "                    [7,8]])\n",
        "\n",
        "print(tf.add(텐서, 텐서2))#+\n",
        "print(tf.subtract(텐서, 텐서2))#-\n",
        "print(tf.divide(텐서, 텐서2))#/\n",
        "print(tf.multiply(텐서, 텐서2))#*\n",
        "print(tf.matmul(텐서3, 텐서4))#행렬의 곱 반드시 행렬끼리만 실행"
      ],
      "metadata": {
        "colab": {
          "base_uri": "https://localhost:8080/"
        },
        "id": "EDWRWJJx6VLC",
        "outputId": "501b4473-6097-4773-b7d8-8e6a2aefb95e"
      },
      "execution_count": 6,
      "outputs": [
        {
          "output_type": "stream",
          "name": "stdout",
          "text": [
            "tf.Tensor([ 9 11 13], shape=(3,), dtype=int32)\n",
            "tf.Tensor([-3 -3 -3], shape=(3,), dtype=int32)\n",
            "tf.Tensor([0.5        0.57142857 0.625     ], shape=(3,), dtype=float64)\n",
            "tf.Tensor([18 28 40], shape=(3,), dtype=int32)\n",
            "tf.Tensor(\n",
            "[[19 22]\n",
            " [43 50]], shape=(2, 2), dtype=int32)\n"
          ]
        }
      ]
    }
  ]
}